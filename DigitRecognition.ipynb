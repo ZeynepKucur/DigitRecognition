{
  "nbformat": 4,
  "nbformat_minor": 0,
  "metadata": {
    "colab": {
      "provenance": []
    },
    "kernelspec": {
      "name": "python3",
      "display_name": "Python 3"
    },
    "language_info": {
      "name": "python"
    }
  },
  "cells": [
    {
      "cell_type": "markdown",
      "source": [
        "### Importing necessary libraries and modules to work with MNIST data set and to build CNN model."
      ],
      "metadata": {
        "id": "KrmprUpWQ2HP"
      }
    },
    {
      "cell_type": "code",
      "execution_count": 1,
      "metadata": {
        "id": "-veN4WRSQblF"
      },
      "outputs": [],
      "source": [
        "from keras.datasets import mnist         # Import the MNIST dataset from Keras\n",
        "import matplotlib.pyplot as plt         # Import matplotlib for visualization\n",
        "import os                               # Import os for system-related operations\n",
        "import numpy as np                      # Import numpy for numerical operations\n",
        "from keras.models import Sequential     # Import Sequential model from Keras\n",
        "from keras.layers import Dense, Conv2D, Flatten  # Import specific layers from Keras"
      ]
    },
    {
      "cell_type": "markdown",
      "source": [
        "### Loading the MNIST dataset and separating it into two sets: one for training the model and the other for testing it.\n",
        "### Y_test[i] represents the true label of the X_test[i] image. In this case the Y equals to the digit in the image of X."
      ],
      "metadata": {
        "id": "FjYK0LDQR5Wn"
      }
    },
    {
      "cell_type": "code",
      "source": [
        "(X_train, Y_train), (X_test, Y_test) = mnist.load_data()"
      ],
      "metadata": {
        "id": "xnPH170FR4xZ"
      },
      "execution_count": 2,
      "outputs": []
    },
    {
      "cell_type": "markdown",
      "source": [
        "### Displaying the first image in the training set"
      ],
      "metadata": {
        "id": "Dw5QcnaLSLTW"
      }
    },
    {
      "cell_type": "code",
      "source": [
        "print(plt.imshow(X_train[0]))"
      ],
      "metadata": {
        "colab": {
          "base_uri": "https://localhost:8080/",
          "height": 447
        },
        "id": "-pvXEvRdSaEK",
        "outputId": "3a19ba15-e8ce-4ce8-fa3b-a3053eff9b69"
      },
      "execution_count": 3,
      "outputs": [
        {
          "output_type": "stream",
          "name": "stdout",
          "text": [
            "AxesImage(size=(28, 28))\n"
          ]
        },
        {
          "output_type": "display_data",
          "data": {
            "text/plain": [
              "<Figure size 640x480 with 1 Axes>"
            ],
            "image/png": "[encoded data removed]"
          },
          "metadata": {}
        }
      ]
    },
    {
      "cell_type": "markdown",
      "source": [
        "### Printing the shape of the first image in the training set and providing information about its dimensions."
      ],
      "metadata": {
        "id": "3XSDMks7SdOU"
      }
    },
    {
      "cell_type": "code",
      "source": [
        "print('SHAPE X_train:', X_train[0].shape)"
      ],
      "metadata": {
        "colab": {
          "base_uri": "https://localhost:8080/"
        },
        "id": "LnfgVSvmTQK2",
        "outputId": "8fee60b9-5bc7-4b69-c040-3ced15e9ca5c"
      },
      "execution_count": 4,
      "outputs": [
        {
          "output_type": "stream",
          "name": "stdout",
          "text": [
            "SHAPE X_train: (28, 28)\n"
          ]
        }
      ]
    },
    {
      "cell_type": "markdown",
      "source": [
        "### converting the images from a 2D format to a 4D format enabling them to be processed by the convolutional neural network model."
      ],
      "metadata": {
        "id": "TNOwFQPLTohN"
      }
    },
    {
      "cell_type": "code",
      "source": [
        "print(type(X_train)) #numpy array\n",
        "X_train = X_train.reshape(60000, 28, 28, 1)\n",
        "X_test = X_test.reshape(10000, 28, 28, 1)"
      ],
      "metadata": {
        "colab": {
          "base_uri": "https://localhost:8080/"
        },
        "id": "VaJY3lkeUPCd",
        "outputId": "20f08d5e-75ea-4ecc-e843-4afc327ab812"
      },
      "execution_count": 5,
      "outputs": [
        {
          "output_type": "stream",
          "name": "stdout",
          "text": [
            "<class 'numpy.ndarray'>\n"
          ]
        }
      ]
    },
    {
      "cell_type": "code",
      "source": [
        "from keras.utils import to_categorical"
      ],
      "metadata": {
        "id": "3TDPHTDvVAX7"
      },
      "execution_count": 6,
      "outputs": []
    },
    {
      "cell_type": "markdown",
      "source": [
        "### Converting the labels into categorical format where each label is represented by a binary array of 0s and 1s"
      ],
      "metadata": {
        "id": "zlQmJp-KW8uj"
      }
    },
    {
      "cell_type": "code",
      "source": [
        "Y_train = to_categorical(Y_train)\n",
        "Y_test = to_categorical(Y_test)"
      ],
      "metadata": {
        "id": "Hx_-0lw0XxH1"
      },
      "execution_count": 7,
      "outputs": []
    },
    {
      "cell_type": "markdown",
      "source": [
        "### Printing the categorical representation of the first label in Y_train"
      ],
      "metadata": {
        "id": "dlo0ELZDYWss"
      }
    },
    {
      "cell_type": "code",
      "source": [
        "print(Y_train[0])"
      ],
      "metadata": {
        "colab": {
          "base_uri": "https://localhost:8080/"
        },
        "id": "eriH4WdxYbyr",
        "outputId": "4ae5cba1-36c6-4b96-cc2b-b5c83017459e"
      },
      "execution_count": 8,
      "outputs": [
        {
          "output_type": "stream",
          "name": "stdout",
          "text": [
            "[0. 0. 0. 0. 0. 1. 0. 0. 0. 0.]\n"
          ]
        }
      ]
    },
    {
      "cell_type": "markdown",
      "source": [
        "### Creating a sequential model for image classification. It consists of two convolutional layers with ReLU activation, followed by flattening the output and adding a fully connected layer with softmax activation for classifying into 10 categories."
      ],
      "metadata": {
        "id": "nd01ZnluY_v_"
      }
    },
    {
      "cell_type": "code",
      "source": [
        "model = Sequential()"
      ],
      "metadata": {
        "id": "pUKXaQD7ZABo"
      },
      "execution_count": 9,
      "outputs": []
    },
    {
      "cell_type": "code",
      "source": [
        "#Adding a convolutional layer to the model. It has 64 filters, a kernel size of 3x3, and uses the ReLU activation function.\n",
        "#The input_shape parameter specifies the shape of the input images as 28x28 with a single channel.\n",
        "model.add(Conv2D(64, kernel_size=3, activation='relu', input_shape=(28, 28, 1))) \n",
        "\n",
        "#Adds another convolutional layer to the model. It has 32 filters, a kernel size of 3x3, and uses the ReLU activation function.\n",
        "model.add(Conv2D(32, kernel_size=3, activation='relu'))\n",
        "\n",
        "#Adding a flatten layer to the model. It takes the output from the previous convolutional layer and flattens it into a 1D vector.\n",
        "#This is necessary to connect the convolutional layers to the fully connected layers.\n",
        "model.add(Flatten())\n",
        "\n",
        "#adds a fully connected layer to the model. It has 10 neurons, corresponding to the 10 categories/classes in the dataset.\n",
        "#The activation function used is softmax, which produces a probability distribution over the classes, indicating the likelihood of each class.\n",
        "model.add(Dense(10, activation='softmax'))"
      ],
      "metadata": {
        "id": "zjwgnQu4ZGgG"
      },
      "execution_count": 10,
      "outputs": []
    },
    {
      "cell_type": "markdown",
      "source": [
        "### Configuring the model for training by specifying the optimizer, loss function, and evaluation metrics."
      ],
      "metadata": {
        "id": "AkOdDUzkcSjv"
      }
    },
    {
      "cell_type": "code",
      "source": [
        "model.compile(optimizer='adam', loss='categorical_crossentropy', metrics=['accuracy'])"
      ],
      "metadata": {
        "id": "92fnnahtbChx"
      },
      "execution_count": 11,
      "outputs": []
    },
    {
      "cell_type": "markdown",
      "source": [
        "###Training the model over 3 epochs with a batch size of 5000."
      ],
      "metadata": {
        "id": "aWaa569pdsdw"
      }
    },
    {
      "cell_type": "code",
      "source": [
        "model.fit(X_train, Y_train, validation_data=(X_test, Y_test), epochs=3, batch_size=5000)"
      ],
      "metadata": {
        "colab": {
          "base_uri": "https://localhost:8080/"
        },
        "id": "C932_nMgcget",
        "outputId": "ee13182f-b258-44a3-c315-92db4c6ae1c9"
      },
      "execution_count": 12,
      "outputs": [
        {
          "output_type": "stream",
          "name": "stdout",
          "text": [
            "Epoch 1/3\n",
            "12/12 [==============================] - 215s 18s/step - loss: 12.4575 - accuracy: 0.4523 - val_loss: 0.9296 - val_accuracy: 0.7057\n",
            "Epoch 2/3\n",
            "12/12 [==============================] - 226s 19s/step - loss: 0.5381 - accuracy: 0.8299 - val_loss: 0.3156 - val_accuracy: 0.9056\n",
            "Epoch 3/3\n",
            "12/12 [==============================] - 223s 19s/step - loss: 0.2596 - accuracy: 0.9219 - val_loss: 0.1926 - val_accuracy: 0.9433\n"
          ]
        },
        {
          "output_type": "execute_result",
          "data": {
            "text/plain": [
              "<keras.callbacks.History at 0x7fac26563520>"
            ]
          },
          "metadata": {},
          "execution_count": 12
        }
      ]
    },
    {
      "cell_type": "code",
      "source": [
        "predictions = model.predict(X_test[:4])"
      ],
      "metadata": {
        "colab": {
          "base_uri": "https://localhost:8080/"
        },
        "id": "-5AU8_DAfQii",
        "outputId": "ba3dca81-b948-4780-8cd5-7c0af31b2566"
      },
      "execution_count": 19,
      "outputs": [
        {
          "output_type": "stream",
          "name": "stdout",
          "text": [
            "1/1 [==============================] - 0s 24ms/step\n"
          ]
        }
      ]
    },
    {
      "cell_type": "code",
      "source": [
        "for i in range(4):\n",
        "    plt.imshow(X_test[i].reshape(28, 28))\n",
        "    plt.title('True Label: {}, Predicted Label: {}'.format(Y_test[i], np.argmax(predictions[i])))\n",
        "    plt.show()"
      ],
      "metadata": {
        "colab": {
          "base_uri": "https://localhost:8080/",
          "height": 1000
        },
        "id": "mCyPPoFQgqTc",
        "outputId": "fe52ebc1-8afa-42a8-e094-743f0bc1228d"
      },
      "execution_count": 21,
      "outputs": [
        {
          "output_type": "display_data",
          "data": {
            "text/plain": [
              "<Figure size 640x480 with 1 Axes>"
            ],
            "image/png": "[encoded data removed]"
          },
          "metadata": {}
        },
        {
          "output_type": "display_data",
          "data": {
            "text/plain": [
              "<Figure size 640x480 with 1 Axes>"
            ],
            "image/png": "[encoded data removed]"
          },
          "metadata": {}
        },
        {
          "output_type": "display_data",
          "data": {
            "text/plain": [
              "<Figure size 640x480 with 1 Axes>"
            ],
            "image/png": "[encoded data removed]"
          },
          "metadata": {}
        },
        {
          "output_type": "display_data",
          "data": {
            "text/plain": [
              "<Figure size 640x480 with 1 Axes>"
            ],
            "image/png": "[encoded data removed]"
          },
          "metadata": {}
        }
      ]
    }
  ]
}